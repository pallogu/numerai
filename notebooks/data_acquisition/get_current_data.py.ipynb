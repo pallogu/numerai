{
 "cells": [
  {
   "cell_type": "markdown",
   "metadata": {},
   "source": [
    "# Data Download"
   ]
  },
  {
   "cell_type": "code",
   "execution_count": 3,
   "metadata": {},
   "outputs": [],
   "source": [
    "import numerapi\n",
    "NAPI = numerapi.NumerAPI(verbosity=\"info\")\n",
    "\n",
    "import os"
   ]
  },
  {
   "cell_type": "code",
   "execution_count": 4,
   "metadata": {},
   "outputs": [
    {
     "name": "stdout",
     "output_type": "stream",
     "text": [
      "Downloading new data for round: 256!\n"
     ]
    },
    {
     "name": "stderr",
     "output_type": "stream",
     "text": [
      "../../data/numerai_dataset_256.zip: 100%|█████████▉| 396M/396M [01:11<00:00, 5.60MB/s]   2021-03-23 21:22:06,820 INFO numerapi.base_api: unzipping file...\n"
     ]
    },
    {
     "name": "stdout",
     "output_type": "stream",
     "text": [
      "Loading the data\n"
     ]
    },
    {
     "ename": "NameError",
     "evalue": "name 'pd' is not defined",
     "output_type": "error",
     "traceback": [
      "\u001b[0;31m---------------------------------------------------------------------------\u001b[0m",
      "\u001b[0;31mNameError\u001b[0m                                 Traceback (most recent call last)",
      "\u001b[0;32m<ipython-input-4-7655abab1c27>\u001b[0m in \u001b[0;36m<module>\u001b[0;34m\u001b[0m\n\u001b[1;32m     34\u001b[0m     \u001b[0;31m# Download, unzip and load data\u001b[0m\u001b[0;34m\u001b[0m\u001b[0;34m\u001b[0m\u001b[0;34m\u001b[0m\u001b[0m\n\u001b[1;32m     35\u001b[0m \u001b[0mdownload_current_data\u001b[0m\u001b[0;34m(\u001b[0m\u001b[0mDIR\u001b[0m\u001b[0;34m)\u001b[0m\u001b[0;34m\u001b[0m\u001b[0;34m\u001b[0m\u001b[0m\n\u001b[0;32m---> 36\u001b[0;31m \u001b[0mtrain\u001b[0m\u001b[0;34m,\u001b[0m \u001b[0mval\u001b[0m\u001b[0;34m,\u001b[0m \u001b[0mtest\u001b[0m \u001b[0;34m=\u001b[0m \u001b[0mload_data\u001b[0m\u001b[0;34m(\u001b[0m\u001b[0mDIR\u001b[0m\u001b[0;34m,\u001b[0m \u001b[0mreduce_memory\u001b[0m\u001b[0;34m=\u001b[0m\u001b[0;32mTrue\u001b[0m\u001b[0;34m)\u001b[0m\u001b[0;34m\u001b[0m\u001b[0;34m\u001b[0m\u001b[0m\n\u001b[0m",
      "\u001b[0;32m<ipython-input-4-7655abab1c27>\u001b[0m in \u001b[0;36mload_data\u001b[0;34m(directory, reduce_memory)\u001b[0m\n\u001b[1;32m     22\u001b[0m         \u001b[0mtrain_path\u001b[0m \u001b[0;34m=\u001b[0m \u001b[0mfull_path\u001b[0m \u001b[0;34m+\u001b[0m \u001b[0;34m'numerai_training_data.csv'\u001b[0m\u001b[0;34m\u001b[0m\u001b[0;34m\u001b[0m\u001b[0m\n\u001b[1;32m     23\u001b[0m         \u001b[0mtest_path\u001b[0m \u001b[0;34m=\u001b[0m \u001b[0mfull_path\u001b[0m \u001b[0;34m+\u001b[0m \u001b[0;34m'numerai_tournament_data.csv'\u001b[0m\u001b[0;34m\u001b[0m\u001b[0;34m\u001b[0m\u001b[0m\n\u001b[0;32m---> 24\u001b[0;31m         \u001b[0mtrain\u001b[0m \u001b[0;34m=\u001b[0m \u001b[0mpd\u001b[0m\u001b[0;34m.\u001b[0m\u001b[0mread_csv\u001b[0m\u001b[0;34m(\u001b[0m\u001b[0mtrain_path\u001b[0m\u001b[0;34m)\u001b[0m\u001b[0;34m\u001b[0m\u001b[0;34m\u001b[0m\u001b[0m\n\u001b[0m\u001b[1;32m     25\u001b[0m         \u001b[0mtest\u001b[0m \u001b[0;34m=\u001b[0m \u001b[0mpd\u001b[0m\u001b[0;34m.\u001b[0m\u001b[0mread_csv\u001b[0m\u001b[0;34m(\u001b[0m\u001b[0mtest_path\u001b[0m\u001b[0;34m)\u001b[0m\u001b[0;34m\u001b[0m\u001b[0;34m\u001b[0m\u001b[0m\n\u001b[1;32m     26\u001b[0m         \u001b[0;31m# Reduce all features to 32-bit floats\u001b[0m\u001b[0;34m\u001b[0m\u001b[0;34m\u001b[0m\u001b[0;34m\u001b[0m\u001b[0m\n",
      "\u001b[0;31mNameError\u001b[0m: name 'pd' is not defined"
     ]
    },
    {
     "name": "stderr",
     "output_type": "stream",
     "text": [
      "\r",
      "../../data/numerai_dataset_256.zip: 396MB [01:30, 5.60MB/s]                           "
     ]
    }
   ],
   "source": [
    "DIR = \"../../data/\"\n",
    "def download_current_data(directory: str):\n",
    "        \"\"\"\n",
    "        Downloads the data for the current round\n",
    "        :param directory: The path to the directory where the data needs to be saved\n",
    "        \"\"\"\n",
    "        current_round = NAPI.get_current_round()\n",
    "        if os.path.isdir(f'{directory}/numerai_dataset_{current_round}/'):\n",
    "            print(f\"You already have the newest data! Current round is: {current_round}\")\n",
    "        else:\n",
    "            print(f\"Downloading new data for round: {current_round}!\")\n",
    "            NAPI.download_current_dataset(dest_path=directory, unzip=True)\n",
    "\n",
    "def load_data(directory: str, reduce_memory: bool=True) -> tuple:\n",
    "        \"\"\"\n",
    "        Get data for current round\n",
    "        :param directory: The path to the directory where the data needs to be saved\n",
    "        :return: A tuple containing the datasets\n",
    "        \"\"\"\n",
    "        print('Loading the data')\n",
    "        full_path = f'{directory}/numerai_dataset_{NAPI.get_current_round()}/'\n",
    "        train_path = full_path + 'numerai_training_data.csv'\n",
    "        test_path = full_path + 'numerai_tournament_data.csv'\n",
    "        train = pd.read_csv(train_path)\n",
    "        test = pd.read_csv(test_path)\n",
    "        # Reduce all features to 32-bit floats\n",
    "        if reduce_memory:\n",
    "            num_features = [f for f in train.columns if f.startswith(\"feature\")]\n",
    "            train[num_features] = train[num_features].astype(np.float32)\n",
    "            test[num_features] = test[num_features].astype(np.float32)\n",
    "        val = test[test['data_type'] == 'validation']\n",
    "        test = test[test['data_type'] != 'validation']\n",
    "        return train, val, test\n",
    "    # Download, unzip and load data\n",
    "download_current_data(DIR)\n",
    "train, val, test = load_data(DIR, reduce_memory=True)"
   ]
  },
  {
   "cell_type": "code",
   "execution_count": null,
   "metadata": {},
   "outputs": [],
   "source": []
  }
 ],
 "metadata": {
  "kernelspec": {
   "display_name": "Python 3",
   "language": "python",
   "name": "python3"
  },
  "language_info": {
   "codemirror_mode": {
    "name": "ipython",
    "version": 3
   },
   "file_extension": ".py",
   "mimetype": "text/x-python",
   "name": "python",
   "nbconvert_exporter": "python",
   "pygments_lexer": "ipython3",
   "version": "3.6.9"
  }
 },
 "nbformat": 4,
 "nbformat_minor": 2
}
